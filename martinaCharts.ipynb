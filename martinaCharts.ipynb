{
 "cells": [
  {
   "cell_type": "code",
   "execution_count": 15,
   "metadata": {},
   "outputs": [],
   "source": [
    "# scater plot budget vs runtime \n",
    "def budgetVSruntime(table):\n",
    "\n",
    "    bud_run=table.plot(kind=\"scatter\",x=\"runtime\", y=\"budget\", marker=\"o\",grid=True,\n",
    "                title=\"runtime vs budget\",\n",
    "                facecolors=\"blue\", edgecolors=\"black\", alpha=0.7)\n",
    "    bud_run.set_xlabel(\"RunTime\")\n",
    "    bud_run.set_ylabel(\"Budget\")\n",
    "    \n",
    "    # linear regression of the data\n",
    "    br_slope, br_int, br_r, br_p, br_std_err = stats.linregress(\n",
    "    table[\"runtime\"],table[\"budget\"])\n",
    "    br_fit = br_slope * table[\"runtime\"] + br_int\n",
    "    bud_run=plt.plot(table[\"runtime\"],br_fit,\"--\",color=\"magenta\")\n",
    "\n",
    "    # Save the plotted figures as .pngs.\n",
    "    #plt.savefig(\"Images/Bud_RunTime.png\")\n",
    "# number of films per year for decades as bar chart\n"
   ]
  },
  {
   "cell_type": "code",
   "execution_count": 18,
   "metadata": {},
   "outputs": [],
   "source": [
    "def filmPERyear(table):\n",
    "    decade=[]\n",
    "    for year in table[\"Decade\"]:\n",
    "        if year not in decade:\n",
    "            decade.append(year)\n",
    "    film_group=table.groupby(\"Decade\")\n",
    "    film_count=film_group[\"title\"].count()\n",
    "    film_table=pd.DataFrame({\"Film Count\":film_count})\n",
    "    #film_year=film_table.plot(kind=\"bar\",x=decade,y=film_count)\n",
    "    return film_group"
   ]
  },
  {
   "cell_type": "code",
   "execution_count": null,
   "metadata": {},
   "outputs": [],
   "source": []
  },
  {
   "cell_type": "code",
   "execution_count": null,
   "metadata": {},
   "outputs": [],
   "source": []
  }
 ],
 "metadata": {
  "kernelspec": {
   "display_name": "Python 3",
   "language": "python",
   "name": "python3"
  },
  "language_info": {
   "codemirror_mode": {
    "name": "ipython",
    "version": 3
   },
   "file_extension": ".py",
   "mimetype": "text/x-python",
   "name": "python",
   "nbconvert_exporter": "python",
   "pygments_lexer": "ipython3",
   "version": "3.6.5"
  }
 },
 "nbformat": 4,
 "nbformat_minor": 2
}
